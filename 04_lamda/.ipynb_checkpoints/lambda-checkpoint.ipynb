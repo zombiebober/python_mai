{
 "cells": [
  {
   "cell_type": "markdown",
   "metadata": {},
   "source": [
    "## Кратко о ФП\n",
    "\n",
    "- чистые функции\n",
    "- функции высшего порядка\n",
    "\n",
    "## ФП также присущи следующие приемы:\n",
    "\n",
    "- частичное применение\n",
    "- композиция (в python еще есть декораторы)\n",
    "- ленивые вычисления\n",
    "\n",
    "## Чистые функции\n",
    "\n",
    "Чистые функции зависят только от своих параметров и возвращают только свой результат. Следующая функция вызванная несколько раз с одним и тем же аргументом выдаст разный результат (хоть и один и тот же объект, в данном случае)."
   ]
  },
  {
   "cell_type": "code",
   "execution_count": 20,
   "metadata": {},
   "outputs": [
    {
     "data": {
      "text/plain": [
       "[1, 2, 3, 4, 5, 6, 7, 8, 9, 1, 2, 3, 4, 5, 6, 7, 8, 9]"
      ]
     },
     "execution_count": 20,
     "metadata": {},
     "output_type": "execute_result"
    }
   ],
   "source": [
    "pred = bool\n",
    "result = []\n",
    "\n",
    "def filter_bool(seq):\n",
    "    for x in seq:\n",
    "        if pred(x):\n",
    "            result.append(x)\n",
    "    return result\n",
    "\n",
    "filter_bool(range(10))\n",
    "filter_bool(range(10))"
   ]
  },
  {
   "cell_type": "markdown",
   "metadata": {},
   "source": [
    "### Сделаем ее чистой:"
   ]
  },
  {
   "cell_type": "code",
   "execution_count": 21,
   "metadata": {},
   "outputs": [
    {
     "data": {
      "text/plain": [
       "[1, 2, 3, 4, 5, 6, 7, 8, 9]"
      ]
     },
     "execution_count": 21,
     "metadata": {},
     "output_type": "execute_result"
    }
   ],
   "source": [
    "pred = bool\n",
    "\n",
    "def filter_bool(seq):\n",
    "    result = []\n",
    "    for x in seq:\n",
    "        if pred(x):\n",
    "            result.append(x)\n",
    "    return result\n",
    "\n",
    "filter_bool(range(10))\n",
    "filter_bool(range(10))"
   ]
  },
  {
   "cell_type": "markdown",
   "metadata": {},
   "source": [
    "## Функции высшего порядка\n",
    "\n",
    "Это такие функции, которые принимают в качестве аргументов другие функции или возвращают другую функцию в качестве результата."
   ]
  },
  {
   "cell_type": "code",
   "execution_count": null,
   "metadata": {},
   "outputs": [],
   "source": [
    "def my_filter(pred, seq):\n",
    "    result = []\n",
    "    for x in seq:\n",
    "        if pred(x):\n",
    "            result.append(x)\n",
    "    return result\n",
    "\n",
    "# Переиспользование\n",
    "above_zero = my_filter(bool, seq)\n",
    "only_odd = my_filter(is_odd, seq)\n",
    "only_even = my_filter(is_even, seq)"
   ]
  },
  {
   "cell_type": "markdown",
   "metadata": {},
   "source": [
    "## Сделаем ленивой"
   ]
  },
  {
   "cell_type": "code",
   "execution_count": 50,
   "metadata": {},
   "outputs": [
    {
     "data": {
      "text/plain": [
       "(1, 2, 3)"
      ]
     },
     "execution_count": 50,
     "metadata": {},
     "output_type": "execute_result"
    }
   ],
   "source": [
    "def my_filter(pred, seq):\n",
    "    for x in seq:\n",
    "        if pred(x):\n",
    "            if x == -1:\n",
    "                raise Exception\n",
    "            yield x\n",
    "    print('The end')\n",
    "\n",
    "foo = my_filter(bool, range(10))   \n",
    "next(foo), next(foo), next(foo)"
   ]
  },
  {
   "cell_type": "markdown",
   "metadata": {},
   "source": [
    "\n",
    "## Частичное применение\n",
    "\n",
    "Это процесс фиксации части аргументов функции, который создает другую функцию, меньшей арности. В переводе на наш это functools.partial."
   ]
  },
  {
   "cell_type": "code",
   "execution_count": 43,
   "metadata": {},
   "outputs": [
    {
     "data": {
      "text/plain": [
       "[1, 2, 3, 4, 5, 6, 7, 8, 9]"
      ]
     },
     "execution_count": 43,
     "metadata": {},
     "output_type": "execute_result"
    }
   ],
   "source": [
    "from functools import partial\n",
    "\n",
    "filter_bool = partial(filter, bool)\n",
    "list(filter_bool(range(10)))\n"
   ]
  },
  {
   "cell_type": "code",
   "execution_count": 61,
   "metadata": {},
   "outputs": [
    {
     "data": {
      "text/plain": [
       "(18, 21, 24)"
      ]
     },
     "execution_count": 61,
     "metadata": {},
     "output_type": "execute_result"
    }
   ],
   "source": [
    "def mult(x: int):\n",
    "    def deco(func: callable):\n",
    "        def inner(y):\n",
    "            return func(y) * x\n",
    "        return inner\n",
    "    return deco\n",
    "\n",
    "mult_3 = mult(3)\n",
    "\n",
    "def foo(y):\n",
    "    return y + 1\n",
    "\n",
    "foo_3 = mult_3(foo)\n",
    "\n",
    "@mult_3\n",
    "def bar(y):\n",
    "    return y + 2\n",
    "\n",
    "@mult(3)\n",
    "def baz(y):\n",
    "    return y + 3\n",
    "\n",
    "\n",
    "foo_3(5), bar(5), baz(5)"
   ]
  },
  {
   "cell_type": "markdown",
   "metadata": {},
   "source": [
    "### Переиспользование"
   ]
  },
  {
   "cell_type": "code",
   "execution_count": 52,
   "metadata": {},
   "outputs": [
    {
     "data": {
      "text/plain": [
       "[0, 2, 4, 6, 8]"
      ]
     },
     "execution_count": 52,
     "metadata": {},
     "output_type": "execute_result"
    }
   ],
   "source": [
    "from functools import partial\n",
    "\n",
    "def is_even(number):\n",
    "    return number % 2 == 0\n",
    "\n",
    "\n",
    "filter_even = partial(filter, is_even)\n",
    "list(filter_even(range(10)))"
   ]
  },
  {
   "cell_type": "markdown",
   "metadata": {},
   "source": [
    "### Перепереиспользование"
   ]
  },
  {
   "cell_type": "code",
   "execution_count": 13,
   "metadata": {},
   "outputs": [
    {
     "data": {
      "text/plain": [
       "[1, 3, 5, 7, 9]"
      ]
     },
     "execution_count": 13,
     "metadata": {},
     "output_type": "execute_result"
    }
   ],
   "source": [
    "from itertools import filterfalse\n",
    "\n",
    "filter_odd = partial(filterfalse, is_even)\n",
    "list(filter_odd(range(10)))"
   ]
  },
  {
   "cell_type": "code",
   "execution_count": null,
   "metadata": {},
   "outputs": [],
   "source": []
  },
  {
   "cell_type": "markdown",
   "metadata": {},
   "source": [
    "## Композиция\n",
    "\n",
    "Такой простой, крутой и нужной штуки в python нет. Ее можно написать самостоятельно, но хотелось бы вменяемой сишной имплементации :("
   ]
  },
  {
   "cell_type": "code",
   "execution_count": 62,
   "metadata": {},
   "outputs": [
    {
     "data": {
      "text/plain": [
       "['1', '2', '3', '4', '5', '6', '7', '8', '9']"
      ]
     },
     "execution_count": 62,
     "metadata": {},
     "output_type": "execute_result"
    }
   ],
   "source": [
    "def compose(*fns):\n",
    "    init, *rest = reversed(fns)\n",
    "    def inner(*args, **kwargs):\n",
    "        result = init(*args, **kwargs)\n",
    "        for fn in rest:\n",
    "            result = fn(result)\n",
    "        return result\n",
    "    return inner\n",
    "\n",
    "# Теперь мы можем делать всякие штуки (выполнение идет справа налево):\n",
    "\n",
    "mapv = compose(list, map)\n",
    "filterv = compose(list, filter)\n",
    "\n",
    "map_str = partial(map, str)\n",
    "awesome = compose(list, map_str, filter)\n",
    "awesome(bool, range(10))\n",
    "\n",
    "# list(map(str, range(10)))\n",
    "# Это прежние версии map и filter из второй версии python\n",
    "# mapv(str, range(10)) == list(map(str, range(10)))"
   ]
  },
  {
   "cell_type": "markdown",
   "metadata": {},
   "source": [
    "Теперь, если вам понадобится неленивый map, вы можете вызвать mapv. Или по старинке писать чуть больше кода. Каждый раз.\n",
    "\n",
    "Функции compose и partial прекрасны тем, что позволяют переиспользовать уже готовые, оттестированные функции. Но самое главное, если вы понимаете преимущество данного подхода, то со временем станете сразу писать их готовыми к композиции.\n",
    "\n",
    "Это очень важный момент — функция должна решать одну простую задачу, тогда:\n",
    "\n",
    "- она будет маленькой\n",
    "- ее будет проще тестировать\n",
    "- легко композировать\n",
    "- просто читать и менять\n",
    "- тяжело сломать"
   ]
  },
  {
   "cell_type": "markdown",
   "metadata": {},
   "source": [
    "## Пример: дропнуть None из последовательности"
   ]
  },
  {
   "cell_type": "code",
   "execution_count": 66,
   "metadata": {},
   "outputs": [
    {
     "data": {
      "text/plain": [
       "<generator object <genexpr> at 0x104c86200>"
      ]
     },
     "execution_count": 66,
     "metadata": {},
     "output_type": "execute_result"
    }
   ],
   "source": [
    "no_none = (x for x in range(10) if x is not None)\n",
    "no_none"
   ]
  },
  {
   "cell_type": "markdown",
   "metadata": {},
   "source": [
    "### Перепишем"
   ]
  },
  {
   "cell_type": "code",
   "execution_count": 78,
   "metadata": {},
   "outputs": [
    {
     "name": "stdout",
     "output_type": "stream",
     "text": [
      "[3, 4]\n",
      "[0, '', [], False, 3, 4]\n"
     ]
    }
   ],
   "source": [
    "from operator import is_\n",
    "from itertools import filterfalse\n",
    "from functools import partial\n",
    "\n",
    "# is_(3, None)\n",
    "# 3 is None\n",
    "# None is 3\n",
    "\n",
    "is_none = partial(is_, None)\n",
    "# is_none(None)\n",
    "filter_none = partial(filterfalse, is_none) \n",
    "# print(list(filter(bool, [0, '', [], False, None, 3, None, 4])))\n",
    "# print(list(filter_none([0, '', [], False, None, 3, None, 4])))\n",
    "\n",
    "# Использование\n",
    "no_none = filter_none(seq)\n",
    "\n",
    "# Переиспользование\n",
    "all_none = compose(all, partial(map, is_none))"
   ]
  },
  {
   "cell_type": "markdown",
   "metadata": {},
   "source": [
    "## Пример 2: получить значения по ключу из массива словарей"
   ]
  },
  {
   "cell_type": "code",
   "execution_count": null,
   "metadata": {},
   "outputs": [],
   "source": [
    "names = (x['name'] for x in users)\n",
    "# names, age = zip(*names)\n",
    "ages = (x['age'] for x in users)\n",
    "ages = (x['age'] for x in users)\n",
    "\n",
    "\n",
    "# Функционально\n",
    "\n",
    "from operator import itemgetter\n",
    "\n",
    "def pluck(key, seq):\n",
    "    return map(itemgetter(key), seq)\n",
    "\n",
    "# Использование\n",
    "names = pluck('name', users)  # names = (x['name'] for x in users)\n",
    "\n",
    "# Переиспользование\n",
    "get_names = partial(pluck, 'name')\n",
    "get_ages = partial(pluck, 'age')"
   ]
  },
  {
   "cell_type": "markdown",
   "metadata": {},
   "source": [
    "### Для объектов"
   ]
  },
  {
   "cell_type": "code",
   "execution_count": null,
   "metadata": {},
   "outputs": [],
   "source": [
    "from operator import itemgetter, attrgetter\n",
    "\n",
    "def plucker(getter, key, seq):\n",
    "    return map(getter(key), seq)\n",
    "\n",
    "pluck = partial(plucker, itemgetter)\n",
    "apluck = partial(plucker, attrgetter)\n",
    "get_names = partial(pluck, 'name')\n",
    "\n",
    "# Использование\n",
    "names = pluck('name', users)  # (x['name'] for x in users)\n",
    "object_names = apluck('name', users)  # (x.name for x in users)"
   ]
  },
  {
   "cell_type": "markdown",
   "metadata": {},
   "source": [
    "## Пример 3"
   ]
  },
  {
   "cell_type": "code",
   "execution_count": null,
   "metadata": {},
   "outputs": [],
   "source": [
    "def dumb_gen(seq):\n",
    "    result = []\n",
    "    for x in seq:\n",
    "        # здесь что-то проиcходит\n",
    "        result.append(x)\n",
    "    return result"
   ]
  },
  {
   "cell_type": "markdown",
   "metadata": {},
   "source": [
    "### Решение"
   ]
  },
  {
   "cell_type": "code",
   "execution_count": null,
   "metadata": {},
   "outputs": [],
   "source": [
    "@post_list\n",
    "def dumb_gen(seq):\n",
    "    yield from foo\n",
    "    yield '--'\n",
    "    for x in seq:\n",
    "        yield x\n",
    "        \n",
    "dumb_gen(range(10))\n",
    "\n",
    "def post_processing(post):\n",
    "    return lambda func: compose(post, func)\n",
    "\n",
    "post_list = post_processing(list)\n",
    "post_set = post_processing(set)\n",
    "post_comma = post_processing(', '.join) \n",
    "post_dict = post_processing(dict)"
   ]
  },
  {
   "cell_type": "markdown",
   "metadata": {},
   "source": [
    "## Итог\n",
    "\n",
    "Перебирая данные железобетонными функциями (чистыми, высшими), мы сохраняем простоту реализации и обеспечиваем стабильность программы, которую проще тестировать:\n",
    "\n",
    "\n",
    "- пишите чистые функции, они обеспечат стабильность программы\n",
    "- пишите функции высшего порядка, код станет намного компактнее и надежнее\n",
    "- композируйте, декорируйте, частично применяйте, переиспользуйте код\n",
    "- используйте сишные либы, они дадут скорости вашему софту\n",
    "\n",
    "Как только вы напишете свой набор инструментов, новый код будет создаваться со знанием того, что у вас есть штука, которая может решить часть задачи. А значит софт будет меньше и проще.\n",
    "\n",
    "\n",
    "## С чего начать?\n",
    "\n",
    "- обязательно ознакомьтесь с itertools, functools, operator, collections, в особенности с примерами в конце\n",
    "- загляните в документацию funcy или другой фпшной либы, почитайте исходный код\n",
    "- напишите свой funcy, весь он сразу вам не нужен, но опыт очень пригодится"
   ]
  }
 ],
 "metadata": {
  "kernelspec": {
   "display_name": "Python 3",
   "language": "python",
   "name": "python3"
  },
  "language_info": {
   "codemirror_mode": {
    "name": "ipython",
    "version": 3
   },
   "file_extension": ".py",
   "mimetype": "text/x-python",
   "name": "python",
   "nbconvert_exporter": "python",
   "pygments_lexer": "ipython3",
   "version": "3.7.2"
  }
 },
 "nbformat": 4,
 "nbformat_minor": 2
}
